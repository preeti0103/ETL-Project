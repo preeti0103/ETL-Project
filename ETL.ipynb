{
 "cells": [
  {
   "cell_type": "code",
   "execution_count": null,
   "metadata": {},
   "outputs": [],
   "source": [
    "# Import dependencies\n",
    "import pandas as pd\n",
    "from sqlalchemy import create_engine\n",
    "\n",
    "from config import PgAdmin_userid\n",
    "# from config import PgAdmin_password"
   ]
  },
  {
   "cell_type": "markdown",
   "metadata": {},
   "source": [
    "# Extract CSVs into DataFrames"
   ]
  },
  {
   "cell_type": "code",
   "execution_count": null,
   "metadata": {},
   "outputs": [],
   "source": [
    "gdp_csv_file = \"Resources/happiness_index.csv\"\n",
    "GDP_index_df = pd.read_csv(gdp_csv_file)\n",
    "GDP_index_df"
   ]
  },
  {
   "cell_type": "code",
   "execution_count": null,
   "metadata": {},
   "outputs": [],
   "source": [
    "happiness_csv_file = \"Resources/happiness_index2019.csv\"\n",
    "happiness_index_df = pd.read_csv(happiness_csv_file)\n",
    "happiness_index_df"
   ]
  },
  {
   "cell_type": "code",
   "execution_count": null,
   "metadata": {},
   "outputs": [],
   "source": [
    "corruption_csv_file = \"Resources/corruption_index.csv\"\n",
    "corruption_index_df = pd.read_csv(corruption_csv_file)\n",
    "corruption_index_df"
   ]
  },
  {
   "cell_type": "code",
   "execution_count": null,
   "metadata": {},
   "outputs": [],
   "source": [
    "population_csv_file = \"Resources/population.csv\"\n",
    "population_index_df = pd.read_csv(population_csv_file)\n",
    "population_index_df"
   ]
  },
  {
   "cell_type": "markdown",
   "metadata": {},
   "source": [
    "# Transform to DataFrame"
   ]
  },
  {
   "cell_type": "code",
   "execution_count": null,
   "metadata": {
    "scrolled": false
   },
   "outputs": [],
   "source": [
    "GDP_data_df = GDP_index_df[['Country name', 'Logged GDP per capita']].copy()\n",
    "GDP_data_df.head()"
   ]
  },
  {
   "cell_type": "code",
   "execution_count": null,
   "metadata": {},
   "outputs": [],
   "source": [
    "GDP_data_df = GDP_data_df.rename(columns = {\"Country name\" : \"Country\",\n",
    "                                         \"Logged GDP per capita\" : \"GDP per capita\"\n",
    "                                         })\n",
    "GDP_data_df.head()"
   ]
  },
  {
   "cell_type": "code",
   "execution_count": null,
   "metadata": {
    "scrolled": true
   },
   "outputs": [],
   "source": [
    "happiness_df = happiness_index_df[['Overall rank', \"Country or region\",  'Score']].copy()\n",
    "happiness_df.head()"
   ]
  },
  {
   "cell_type": "code",
   "execution_count": null,
   "metadata": {},
   "outputs": [],
   "source": [
    "happiness_df = happiness_df.rename(columns = {\"Overall rank\" : \"Happiness Rank\", \n",
    "                                              \"Country or region\" : \"Country\",\n",
    "                                              \"Score\" : \"Happiness Score\"\n",
    "                                         })\n",
    "happiness_df.head()"
   ]
  },
  {
   "cell_type": "code",
   "execution_count": null,
   "metadata": {},
   "outputs": [],
   "source": [
    "# new_df = GDP_data_df.merge(happiness_df , on =\"Country\", how = \"inner\")\n",
    "# new_df"
   ]
  },
  {
   "cell_type": "code",
   "execution_count": null,
   "metadata": {
    "scrolled": true
   },
   "outputs": [],
   "source": [
    "merge_one = pd.merge(left = GDP_data_df, right = happiness_df, how = \"inner\", on = \"Country\" )\n",
    "merge_one"
   ]
  },
  {
   "cell_type": "code",
   "execution_count": null,
   "metadata": {},
   "outputs": [],
   "source": [
    "corruption_df = corruption_index_df[[\"Country (region)\", \"Ladder\", \"Corruption\"]].copy()\n",
    "corruption_df.head()"
   ]
  },
  {
   "cell_type": "code",
   "execution_count": null,
   "metadata": {},
   "outputs": [],
   "source": [
    "corruption_df = corruption_df.rename(columns = {\"Country (region)\" : \"Country\", \n",
    "                                              \"Ladder\" : \"Corruption Rank\",\n",
    "                                              \"Corruption\" : \"Corruption Score\"\n",
    "                                         })\n",
    "corruption_df.head()"
   ]
  },
  {
   "cell_type": "code",
   "execution_count": null,
   "metadata": {},
   "outputs": [],
   "source": [
    "merge_two = pd.merge(left = merge_one, right = corruption_df, how = \"inner\", on = \"Country\" )\n",
    "merge_two"
   ]
  },
  {
   "cell_type": "code",
   "execution_count": null,
   "metadata": {
    "scrolled": true
   },
   "outputs": [],
   "source": [
    "population_df = population_index_df[[\"Country (or dependency)\", \"Population (2020)\", \"Density (P/Km²)\"]]\n",
    "population_df.head()"
   ]
  },
  {
   "cell_type": "code",
   "execution_count": null,
   "metadata": {},
   "outputs": [],
   "source": [
    "population_df  = population_df .rename(columns = {\"Country (or dependency)\" : \"Country\", \n",
    "                                              \"Population (2020)\" : \"Population\"\n",
    "                                         })\n",
    "population_df.head()"
   ]
  },
  {
   "cell_type": "code",
   "execution_count": null,
   "metadata": {},
   "outputs": [],
   "source": [
    "combined_df = pd.merge(left = merge_two, right = population_df, how = \"inner\", on = \"Country\" )\n",
    "combined_df"
   ]
  },
  {
   "cell_type": "code",
   "execution_count": null,
   "metadata": {},
   "outputs": [],
   "source": [
    "new_combined_df = combined_df.reset_index()\n",
    "new_combined_df[\"index\"] += 1\n",
    "new_combined_df = new_combined_df.rename(columns = {\"index\" : \"Country ID\"})\n",
    "new_combined_df"
   ]
  },
  {
   "cell_type": "code",
   "execution_count": null,
   "metadata": {},
   "outputs": [],
   "source": [
    "new_combined_df = new_combined_df.rename(columns = {\"Country ID\" : \"country_id\",\n",
    "                                                   \"Country\" : \"country_name\",\n",
    "                                                   \"GDP per capita\" : \"gdp_per_capita\",\n",
    "                                                   \"Happiness Rank\" : \"happiness_rank\",\n",
    "                                                   \"Happiness Score\" : \"happiness_score\",\n",
    "                                                   \"Corruption Rank\" : \"corruption_rank\",\n",
    "                                                   \"Corruption Score\" : \"corruption_score\",\n",
    "                                                   \"Population\" : \"population\",\n",
    "                                                   \"Density (P/Km²)\" : \"density\"\n",
    "                                                   })\n",
    "\n",
    "\n",
    "new_combined_df.head()"
   ]
  },
  {
   "cell_type": "markdown",
   "metadata": {},
   "source": [
    "# Create database connection"
   ]
  },
  {
   "cell_type": "code",
   "execution_count": null,
   "metadata": {},
   "outputs": [],
   "source": [
    "# connection_string = f\"{PgAdmin_userid}:{PgAdmin_password}@localhost:5432/ETL_project_db\"\n",
    "connection_string = f\"{PgAdmin_userid}@localhost:5432/ETL_project_db\"\n",
    "engine = create_engine(f'postgresql://{connection_string}')"
   ]
  },
  {
   "cell_type": "code",
   "execution_count": null,
   "metadata": {},
   "outputs": [],
   "source": [
    "engine.table_names()"
   ]
  },
  {
   "cell_type": "markdown",
   "metadata": {},
   "source": [
    "### Load DataFrames into database"
   ]
  },
  {
   "cell_type": "code",
   "execution_count": null,
   "metadata": {},
   "outputs": [],
   "source": [
    "new_combined_df[[\"country_id\", \"country_name\"]].to_sql(name=\"country\", con = engine, if_exists=\"append\", index=False)\n",
    "    "
   ]
  },
  {
   "cell_type": "code",
   "execution_count": null,
   "metadata": {},
   "outputs": [],
   "source": [
    "new_combined_df[[\"happiness_rank\", \"country_id\", \"happiness_score\"]].to_sql(name=\"happiness_index\", con = engine, if_exists=\"append\", index=False)"
   ]
  },
  {
   "cell_type": "code",
   "execution_count": null,
   "metadata": {},
   "outputs": [],
   "source": [
    "new_combined_df[[\"corruption_rank\", \"country_id\", \"corruption_score\"]].to_sql(name=\"corruption_index\", con = engine, if_exists=\"append\", index=False)"
   ]
  },
  {
   "cell_type": "code",
   "execution_count": null,
   "metadata": {},
   "outputs": [],
   "source": [
    "new_combined_df[[\"country_id\", \"population\", \"density\"]].to_sql(name=\"population\", con = engine, if_exists=\"append\", index=False)"
   ]
  },
  {
   "cell_type": "code",
   "execution_count": null,
   "metadata": {},
   "outputs": [],
   "source": [
    "new_combined_df[[\"country_id\", \"gdp_per_capita\"]].to_sql(name=\"gdp_data\", con = engine, if_exists=\"append\", index=False)\n",
    "\n"
   ]
  },
  {
   "cell_type": "code",
   "execution_count": null,
   "metadata": {},
   "outputs": [],
   "source": []
  }
 ],
 "metadata": {
  "kernelspec": {
   "display_name": "Python [conda env:PythonData] *",
   "language": "python",
   "name": "conda-env-PythonData-py"
  },
  "language_info": {
   "codemirror_mode": {
    "name": "ipython",
    "version": 3
   },
   "file_extension": ".py",
   "mimetype": "text/x-python",
   "name": "python",
   "nbconvert_exporter": "python",
   "pygments_lexer": "ipython3",
   "version": "3.6.10"
  }
 },
 "nbformat": 4,
 "nbformat_minor": 4
}
